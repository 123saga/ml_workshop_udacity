{
 "cells": [
  {
   "cell_type": "markdown",
   "metadata": {},
   "source": [
    "## Step 0: Latent Dirichlet Allocation ##\n",
    "\n",
    "LDA is used to classify text in a document to a particular topic. It builds a topic per document model and words per topic model, modeled as Dirichlet distributions. \n",
    "\n",
    "* Each document is modeled as a multinomial distribution of topics and each topic is modeled as a multinomial distribution of words.\n",
    "* LDA assumes that the every chunk of text we feed into it will contain words that are somehow related. Therefore choosing the right corpus of data is crucial. \n",
    "* It also assumes documents are produced from a mixture of topics. Those topics then generate words based on their probability distribution. "
   ]
  },
  {
   "cell_type": "markdown",
   "metadata": {},
   "source": [
    "### LDA on a real world dataset ###\n",
    "\n",
    "We will be using the 20 Newsgroup dataset which is a collection of emails exchanged in 20 newsgroups. You can read more about the dataset [here](http://qwone.com/~jason/20Newsgroups/)."
   ]
  },
  {
   "cell_type": "markdown",
   "metadata": {},
   "source": [
    "## Step 1: Load the dataset ##\n",
    "\n",
    "The 20 newsgroups dataset comprises around 18000 newsgroups posts on 20 topics. Some of these topics are similar, so we will try to classify them into 10 topics.\n",
    "\n",
    "Remove all email headers, footers and quotes from the replied emails."
   ]
  },
  {
   "cell_type": "code",
   "execution_count": 32,
   "metadata": {},
   "outputs": [],
   "source": [
    "'''\n",
    "Dataset from http://scikit-learn.org/stable/datasets/twenty_newsgroups.html\n",
    "'''\n",
    "import numpy as np\n",
    "np.random.seed(400)\n",
    "from sklearn.datasets import fetch_20newsgroups\n",
    "documents = fetch_20newsgroups(remove=('headers', 'footers', 'quotes')).data"
   ]
  },
  {
   "cell_type": "code",
   "execution_count": 33,
   "metadata": {},
   "outputs": [
    {
     "name": "stdout",
     "output_type": "stream",
     "text": [
      "11314\n"
     ]
    }
   ],
   "source": [
    "'''\n",
    "Get the total number of documents\n",
    "'''\n",
    "print(len(documents))"
   ]
  },
  {
   "cell_type": "code",
   "execution_count": 66,
   "metadata": {},
   "outputs": [
    {
     "name": "stdout",
     "output_type": "stream",
     "text": [
      "\n",
      "**Printing out a sample document:**\n",
      "Have anybody succeded in converting a atari monomchrome monitor into a\n",
      "mono VGA monitor. If so please let me know exactly how you did and what\n",
      "graphics card you used.\n",
      "\n",
      "\t/Thanx\n"
     ]
    }
   ],
   "source": [
    "# Previewing a document\n",
    "document_num = 5288\n",
    "print(\"\\n**Printing out a sample document:**\")\n",
    "print(documents[document_num])"
   ]
  },
  {
   "cell_type": "markdown",
   "metadata": {},
   "source": [
    "** Looks like this document will come under `comp.graphics`. **"
   ]
  },
  {
   "cell_type": "markdown",
   "metadata": {},
   "source": [
    "## Step 2: Data Preprocessing ##\n",
    "\n",
    "We will perform the following steps:\n",
    "\n",
    "* **Tokenization**: Split the text into sentences and the sentences into words. Lowercase the words and remove punctuation.\n",
    "* Words that have fewer than 3 characters are removed.\n",
    "* All **stopwords** are removed.\n",
    "* Words are **lemmatized** - words in third person are changed to first person and verbs in past and future tenses are changed into present.\n",
    "* Words are **stemmed** - words are reduced to their root form.\n"
   ]
  },
  {
   "cell_type": "code",
   "execution_count": 67,
   "metadata": {},
   "outputs": [],
   "source": [
    "'''\n",
    "Loading Gensim library\n",
    "'''\n",
    "import gensim\n",
    "from gensim.utils import simple_preprocess\n",
    "from gensim.parsing.preprocessing import STOPWORDS\n",
    "import nltk\n",
    "from nltk.stem import WordNetLemmatizer, SnowballStemmer\n",
    "from nltk.stem.porter import *\n",
    "import numpy as np\n",
    "np.random.seed(400)"
   ]
  },
  {
   "cell_type": "code",
   "execution_count": 38,
   "metadata": {},
   "outputs": [
    {
     "name": "stdout",
     "output_type": "stream",
     "text": [
      "[nltk_data] Downloading package wordnet to /Users/mat/nltk_data...\n",
      "[nltk_data]   Package wordnet is already up-to-date!\n"
     ]
    },
    {
     "data": {
      "text/plain": [
       "True"
      ]
     },
     "execution_count": 38,
     "metadata": {},
     "output_type": "execute_result"
    }
   ],
   "source": [
    "nltk.download(\"wordnet\")"
   ]
  },
  {
   "cell_type": "code",
   "execution_count": 39,
   "metadata": {},
   "outputs": [
    {
     "name": "stdout",
     "output_type": "stream",
     "text": [
      "go\n"
     ]
    }
   ],
   "source": [
    "'''\n",
    "Lemmatizing example for a verb, noun.\n",
    "'''\n",
    "print(WordNetLemmatizer().lemmatize('went', pos = 'v')) # past tense to present tense"
   ]
  },
  {
   "cell_type": "code",
   "execution_count": 41,
   "metadata": {},
   "outputs": [
    {
     "name": "stdout",
     "output_type": "stream",
     "text": [
      "caress fli die mule deni die agre own humbl size meet state siez item sensat tradit refer colon plot\n"
     ]
    }
   ],
   "source": [
    "'''\n",
    "Stemming example\n",
    "'''\n",
    "stemmer = SnowballStemmer(\"english\")\n",
    "plurals = ['caresses', 'flies', 'dies', 'mules', 'denied','died', 'agreed', 'owned', \n",
    "           'humbled', 'sized','meeting', 'stating', 'siezing', 'itemization','sensational', \n",
    "           'traditional', 'reference', 'colonizer','plotted']\n",
    "singles = [stemmer.stem(plural) for plural in plurals]\n",
    "print(' '.join(singles))"
   ]
  },
  {
   "cell_type": "code",
   "execution_count": 42,
   "metadata": {},
   "outputs": [],
   "source": [
    "'''\n",
    "Data preprocessing\n",
    "'''\n",
    "def lemmatize_stemming(text):\n",
    "    return stemmer.stem(WordNetLemmatizer().lemmatize(text, pos='v'))\n",
    "\n",
    "# Tokenize and lemmatize\n",
    "def preprocess(text):\n",
    "    result = [lemmatize_stemming(token) for token in gensim.utils.simple_preprocess(text) \n",
    "              # Remove stop words and words less than 3 characters long\n",
    "              if token not in gensim.parsing.preprocessing.STOPWORDS and len(token) > 3]\n",
    "    return result"
   ]
  },
  {
   "cell_type": "code",
   "execution_count": 43,
   "metadata": {},
   "outputs": [
    {
     "name": "stdout",
     "output_type": "stream",
     "text": [
      "Original document: \n",
      "[':As', 'a', 'matter', 'of', 'fact,', 'i', 'do', 'keep', 'random', 'files', 'on', 'my', 'disk.', '', 'The', 'reason', 'is,\\n:without', 'special-purpose', 'hardware,', 'it', 'takes', 'a', 'long', 'time', 'to', 'generate', 'good', 'random\\n:bits.', '', 'I', 'have', 'programs', 'that', 'crank', 'out', 'a', 'couple', 'bits', 'per', 'minute,', 'which', 'is\\n:pretty', 'conservative,', 'but', 'over', 'time', \"that's\", 'more', 'than', 'i', 'need.\\n\\nSounds', 'like', 'a', 'useful', 'program', '-', 'interested', 'in', 'posting', 'it', 'to', 'alt.sources?']\n",
      "\n",
      "\n",
      "Tokenized and lemmatized document: \n",
      "['matter', 'fact', 'random', 'file', 'disk', 'reason', 'special', 'purpos', 'hardwar', 'take', 'long', 'time', 'generat', 'good', 'random', 'bit', 'program', 'crank', 'coupl', 'bit', 'minut', 'pretti', 'conserv', 'time', 'need', 'sound', 'like', 'use', 'program', 'interest', 'post', 'sourc']\n"
     ]
    }
   ],
   "source": [
    "'''\n",
    "Preview a document after preprocessing\n",
    "'''\n",
    "print(\"Original document: \")\n",
    "words = []\n",
    "for word in documents[document_num].split(' '):\n",
    "    words.append(word)\n",
    "print(words)\n",
    "print(\"\\n\\nTokenized and lemmatized document: \")\n",
    "print(preprocess(documents[document_num]))"
   ]
  },
  {
   "cell_type": "code",
   "execution_count": 44,
   "metadata": {},
   "outputs": [],
   "source": [
    "'''\n",
    "Perform preprocessing on entire dataset\n",
    "'''\n",
    "processed_docs = [preprocess(doc) for doc in documents]"
   ]
  },
  {
   "cell_type": "markdown",
   "metadata": {},
   "source": [
    "## Step 3.1: Bag of words on the dataset ##"
   ]
  },
  {
   "cell_type": "code",
   "execution_count": 45,
   "metadata": {},
   "outputs": [],
   "source": [
    "'''\n",
    "Create a dictionary containing the number of times a word appears in the training set\n",
    "'''\n",
    "dictionary = gensim.corpora.Dictionary(processed_docs)"
   ]
  },
  {
   "cell_type": "code",
   "execution_count": 46,
   "metadata": {},
   "outputs": [
    {
     "name": "stdout",
     "output_type": "stream",
     "text": [
      "0 addit\n",
      "1 bodi\n",
      "2 bricklin\n",
      "3 bumper\n",
      "4 call\n",
      "5 door\n",
      "6 earli\n",
      "7 engin\n",
      "8 enlighten\n",
      "9 funki\n",
      "10 histori\n"
     ]
    }
   ],
   "source": [
    "'''\n",
    "Checking dictionary created\n",
    "'''\n",
    "count = 0\n",
    "for k, v in dictionary.iteritems():\n",
    "    print(k, v)\n",
    "    count += 1\n",
    "    if count > 10:\n",
    "        break"
   ]
  },
  {
   "cell_type": "markdown",
   "metadata": {},
   "source": [
    "** Gensim filter_extremes **\n",
    "\n",
    "`filter_extremes(no_below=5, no_above=0.5, keep_n=100000)`\n",
    "\n",
    "Filter out tokens that appear in\n",
    "\n",
    "* less than no_below documents (absolute number) or\n",
    "* more than no_above documents (fraction of total corpus size, not absolute number).\n",
    "* after (1) and (2), keep only the first keep_n most frequent tokens (or keep all if None)."
   ]
  },
  {
   "cell_type": "code",
   "execution_count": 47,
   "metadata": {},
   "outputs": [],
   "source": [
    "'''\n",
    "Remove very rare and very common words:\n",
    "\n",
    "- words appearing less than 15 times\n",
    "- words appearing in more than 10% of all documents\n",
    "'''\n",
    "dictionary.filter_extremes(no_below=15, \n",
    "                                no_above=0.10)"
   ]
  },
  {
   "cell_type": "markdown",
   "metadata": {},
   "source": [
    "** Gensim doc2bow **\n",
    "\n",
    "`doc2bow(document)`\n",
    "\n",
    "* Convert document (a list of words) into the bag-of-words format = list of (token_id, token_count) 2-tuples. Each word is assumed to be a tokenized and normalized string (either unicode or utf8-encoded). No further preprocessing is done on the words in document; apply tokenization, stemming etc. before calling this method."
   ]
  },
  {
   "cell_type": "code",
   "execution_count": 48,
   "metadata": {},
   "outputs": [],
   "source": [
    "'''\n",
    "Create the Bag-of-words model for each document i.e for each document we create a dictionary reporting how many\n",
    "words and how many times those words appear.\n",
    "'''\n",
    "bow_corpus = [dictionary.doc2bow(doc) for doc in processed_docs]"
   ]
  },
  {
   "cell_type": "code",
   "execution_count": 49,
   "metadata": {},
   "outputs": [
    {
     "data": {
      "text/plain": [
       "[(30, 1),\n",
       " (123, 1),\n",
       " (124, 1),\n",
       " (177, 1),\n",
       " (199, 1),\n",
       " (335, 1),\n",
       " (434, 1),\n",
       " (482, 1),\n",
       " (485, 1),\n",
       " (530, 1),\n",
       " (539, 2),\n",
       " (583, 1),\n",
       " (586, 1),\n",
       " (628, 1),\n",
       " (746, 1),\n",
       " (778, 1),\n",
       " (984, 1),\n",
       " (1086, 1),\n",
       " (1303, 1),\n",
       " (1633, 2),\n",
       " (2193, 1),\n",
       " (2296, 2)]"
      ]
     },
     "execution_count": 49,
     "metadata": {},
     "output_type": "execute_result"
    }
   ],
   "source": [
    "'''\n",
    "Checking Bag of Words corpus for our sample document --> (token_id, token_count)\n",
    "'''\n",
    "# document_num = 4310\n",
    "bow_corpus[document_num]"
   ]
  },
  {
   "cell_type": "code",
   "execution_count": 50,
   "metadata": {},
   "outputs": [
    {
     "name": "stdout",
     "output_type": "stream",
     "text": [
      "Word 30 (\"disk\") appears 1 time.\n",
      "Word 123 (\"take\") appears 1 time.\n",
      "Word 124 (\"use\") appears 1 time.\n",
      "Word 177 (\"file\") appears 1 time.\n",
      "Word 199 (\"fact\") appears 1 time.\n",
      "Word 335 (\"pretti\") appears 1 time.\n",
      "Word 434 (\"sourc\") appears 1 time.\n",
      "Word 482 (\"reason\") appears 1 time.\n",
      "Word 485 (\"sound\") appears 1 time.\n",
      "Word 530 (\"generat\") appears 1 time.\n",
      "Word 539 (\"program\") appears 2 time.\n",
      "Word 583 (\"conserv\") appears 1 time.\n",
      "Word 586 (\"coupl\") appears 1 time.\n",
      "Word 628 (\"interest\") appears 1 time.\n",
      "Word 746 (\"matter\") appears 1 time.\n",
      "Word 778 (\"hardwar\") appears 1 time.\n",
      "Word 984 (\"long\") appears 1 time.\n",
      "Word 1086 (\"minut\") appears 1 time.\n",
      "Word 1303 (\"special\") appears 1 time.\n",
      "Word 1633 (\"bit\") appears 2 time.\n",
      "Word 2193 (\"purpos\") appears 1 time.\n",
      "Word 2296 (\"random\") appears 2 time.\n"
     ]
    }
   ],
   "source": [
    "'''\n",
    "Preview BOW for our sample preprocessed document\n",
    "'''\n",
    "# Here document_num is document number 4310 which we have checked in Step 2\n",
    "bow_doc_4310 = bow_corpus[document_num]\n",
    "\n",
    "for i in range(len(bow_doc_4310)):\n",
    "    print(\"Word {} (\\\"{}\\\") appears {} time.\".format(bow_doc_4310[i][0], \n",
    "                                                     dictionary[bow_doc_4310[i][0]], \n",
    "                                                     bow_doc_4310[i][1]))"
   ]
  },
  {
   "cell_type": "markdown",
   "metadata": {},
   "source": [
    "## Step 3.2: TF-IDF on our document set ##\n",
    "\n",
    "While performing TF-IDF on the corpus is not necessary for LDA implemention using the gensim model, it is recemmended. TF-IDF expects a bag-of-words (integer values) training corpus during initialization. During transformation, it will take a vector and return another vector of the same dimensionality.\n",
    "\n",
    "*Please note: The author of Gensim dictates the standard procedure for LDA to be using the Bag of Words model.*"
   ]
  },
  {
   "cell_type": "markdown",
   "metadata": {},
   "source": [
    "** TF-IDF stands for \"Term Frequency, Inverse Document Frequency\".**\n",
    "\n",
    "* It is a way to score the importance of words (or \"terms\") in a document based on how frequently they appear across multiple documents.\n",
    "* If a word appears frequently in a document, it's important. Give the word a high score. But if a word appears in many documents, it's not a unique identifier. Give the word a low score.\n",
    "* Therefore, common words like \"the\" and \"for\", which appear in many documents, will be scaled down. Words that appear frequently in a single document will be scaled up.\n",
    "\n",
    "In other words:\n",
    "\n",
    "* TF(w) = `(Number of times term w appears in a document) / (Total number of terms in the document)`.\n",
    "* IDF(w) = `log_e(Total number of documents / Number of documents with term w in it)`.\n",
    "\n",
    "** For example **\n",
    "\n",
    "* Consider a document containing `100` words wherein the word 'tiger' appears 3 times. \n",
    "* The term frequency (i.e., tf) for 'tiger' is then: \n",
    "    - `TF = (3 / 100) = 0.03`. \n",
    "\n",
    "* Now, assume we have `10 million` documents and the word 'tiger' appears in `1000` of these. Then, the inverse document frequency (i.e., idf) is calculated as:\n",
    "    - `IDF = log(10,000,000 / 1,000) = 4`. \n",
    "\n",
    "* Thus, the Tf-idf weight is the product of these quantities: \n",
    "    - `TF-IDF = 0.03 * 4 = 0.12`."
   ]
  },
  {
   "cell_type": "code",
   "execution_count": 51,
   "metadata": {},
   "outputs": [],
   "source": [
    "'''\n",
    "Create tf-idf model object on \n",
    "'''\n",
    "from gensim import corpora, models\n",
    "tfidf = models.TfidfModel(bow_corpus)"
   ]
  },
  {
   "cell_type": "code",
   "execution_count": 52,
   "metadata": {},
   "outputs": [],
   "source": [
    "'''\n",
    "Apply transformation to the entire corpus\n",
    "'''\n",
    "corpus_tfidf = tfidf[bow_corpus]"
   ]
  },
  {
   "cell_type": "code",
   "execution_count": 54,
   "metadata": {},
   "outputs": [
    {
     "name": "stdout",
     "output_type": "stream",
     "text": [
      "[(0, 0.1875264581347021),\n",
      " (1, 0.19048818244598065),\n",
      " (2, 0.3200391084578768),\n",
      " (3, 0.13734351513213772),\n",
      " (4, 0.4474660769851411),\n",
      " (5, 0.1942033579423499),\n",
      " (6, 0.17810397981137643),\n",
      " (7, 0.3120247629296378),\n",
      " (8, 0.1888992200040353),\n",
      " (9, 0.17867218585267072),\n",
      " (10, 0.2065318154009039),\n",
      " (11, 0.13825450801956224),\n",
      " (12, 0.184086472847616),\n",
      " (13, 0.18071128387952717),\n",
      " (14, 0.18283363306153416),\n",
      " (15, 0.2065318154009039),\n",
      " (16, 0.1682262661361903),\n",
      " (17, 0.23995085429482482),\n",
      " (18, 0.23341628184742005),\n",
      " (19, 0.16695673871225614)]\n"
     ]
    }
   ],
   "source": [
    "'''\n",
    "Preview TF-IDF scores for our first document --> --> (token_id, tfidf score)\n",
    "'''\n",
    "from pprint import pprint\n",
    "for doc in corpus_tfidf:\n",
    "    pprint(doc)\n",
    "    break"
   ]
  },
  {
   "cell_type": "markdown",
   "metadata": {},
   "source": [
    "## Step 4.1: Running LDA using Bag of Words ##\n",
    "\n",
    "We are going for 10 topics in the document corpus.\n",
    "\n",
    "** We will be running LDA using all CPU cores to parallelize and speed up model training.**\n",
    "\n",
    "Some of the parameters we will be tweaking are:\n",
    "\n",
    "* **num_topics** is the number of requested latent topics to be extracted from the training corpus.\n",
    "* **id2word** is a mapping from word ids (integers) to words (strings). It is used to determine the vocabulary size, as well as for debugging and topic printing.\n",
    "* **workers** is the number of extra processes to use for parallelization. Uses all available cores by default.\n",
    "* **alpha** and **eta** are hyperparameters that affect sparsity of the document-topic (theta) and topic-word (lambda) distributions. We will let these be the default values for now(default value is `1/num_topics`)\n",
    "    - Alpha is the per document topic distribution.\n",
    "        * High alpha: Every document has a mixture of all topics(documents appear similar to each other).\n",
    "        * Low alpha: Every document has a mixture of very few topics\n",
    "\n",
    "    - Eta is the per topic word distribution.\n",
    "        * High eta: Each topic has a mixture of most words(topics appear similar to each other).\n",
    "        * Low eta: Each topic has a mixture of few words.\n",
    "\n",
    "* ** passes ** is the number of training passes through the corpus. For  example, if the training corpus has 50,000 documents, chunksize is  10,000, passes is 2, then online training is done in 10 updates: \n",
    "    * `#1 documents 0-9,999 `\n",
    "    * `#2 documents 10,000-19,999 `\n",
    "    * `#3 documents 20,000-29,999 `\n",
    "    * `#4 documents 30,000-39,999 `\n",
    "    * `#5 documents 40,000-49,999 `\n",
    "    * `#6 documents 0-9,999 `\n",
    "    * `#7 documents 10,000-19,999 `\n",
    "    * `#8 documents 20,000-29,999 `\n",
    "    * `#9 documents 30,000-39,999 `\n",
    "    * `#10 documents 40,000-49,999`\n",
    "    \n",
    "At a high level:\n",
    "\n",
    "* Go through each document, and randomly assign each word in the document to one of the K topics. Notice that this random assignment already gives you both topic representations of all the documents and word distributions of all the topics (albeit not very good ones).\n",
    "* So to improve on them, for each document d:\n",
    "    - Go through each word w in d:\n",
    "        - And for each topic t, compute two things: \n",
    "            - 1) A - the proportion of words in document `d` that are currently assigned to topic `t`, and \n",
    "            - 2) B - the proportion of assignments to topic `t` over all documents that come from this word `w`. \n",
    "        - Reassign `w` a new topic, where we choose topic `t` with probability `A * B` (according to our generative model, this is essentially the probability that topic `t` generated word `w`, so it makes sense that we resample the current word’s topic with this probability). \n",
    "        \n",
    "        \n",
    "* After repeating the previous step a large number of times, you’ll eventually reach a roughly steady state where your assignments are pretty good. So use these assignments to estimate the topic mixtures of each document:\n",
    "    - by counting the proportion of words assigned to each topic within that document and \n",
    "    - the words associated to each topic (by counting the proportion of words assigned to each topic overall|.    "
   ]
  },
  {
   "cell_type": "code",
   "execution_count": 57,
   "metadata": {},
   "outputs": [],
   "source": [
    "# LDA mono-core\n",
    "# lda_model = gensim.models.LdaModel(bow_corpus, \n",
    "#                                    num_topics = 10, \n",
    "#                                    id2word = dictionary,                                    \n",
    "#                                    passes = 1)\n",
    "\n",
    "# LDA multicore \n",
    "lda_model = gensim.models.LdaMulticore(bow_corpus, \n",
    "                                       num_topics=10, \n",
    "                                       id2word = dictionary, \n",
    "                                       passes = 50, \n",
    "                                       workers=2)"
   ]
  },
  {
   "cell_type": "code",
   "execution_count": 56,
   "metadata": {},
   "outputs": [
    {
     "name": "stdout",
     "output_type": "stream",
     "text": [
      "Topic: 0 Word: 0.023*\"space\" + 0.009*\"nasa\" + 0.008*\"research\" + 0.008*\"launch\" + 0.008*\"orbit\" + 0.007*\"univers\" + 0.007*\"center\" + 0.007*\"develop\" + 0.007*\"program\" + 0.007*\"data\"\n",
      "\n",
      "\n",
      "Topic: 1 Word: 0.014*\"encrypt\" + 0.012*\"secur\" + 0.011*\"chip\" + 0.010*\"mail\" + 0.010*\"public\" + 0.010*\"inform\" + 0.008*\"govern\" + 0.008*\"key\" + 0.008*\"messag\" + 0.008*\"clipper\"\n",
      "\n",
      "\n",
      "Topic: 2 Word: 0.017*\"window\" + 0.014*\"file\" + 0.010*\"drive\" + 0.010*\"program\" + 0.009*\"card\" + 0.007*\"version\" + 0.007*\"softwar\" + 0.007*\"disk\" + 0.006*\"imag\" + 0.006*\"avail\"\n",
      "\n",
      "\n",
      "Topic: 3 Word: 0.012*\"israel\" + 0.011*\"kill\" + 0.010*\"jew\" + 0.009*\"govern\" + 0.009*\"isra\" + 0.007*\"attack\" + 0.007*\"arab\" + 0.007*\"countri\" + 0.007*\"forc\" + 0.007*\"state\"\n",
      "\n",
      "\n",
      "Topic: 4 Word: 0.013*\"state\" + 0.012*\"price\" + 0.011*\"sell\" + 0.009*\"sale\" + 0.008*\"money\" + 0.008*\"presid\" + 0.008*\"govern\" + 0.007*\"control\" + 0.007*\"offer\" + 0.007*\"cost\"\n",
      "\n",
      "\n",
      "Topic: 5 Word: 0.028*\"game\" + 0.021*\"team\" + 0.017*\"play\" + 0.013*\"player\" + 0.010*\"season\" + 0.009*\"hockey\" + 0.008*\"leagu\" + 0.007*\"score\" + 0.006*\"goal\" + 0.006*\"period\"\n",
      "\n",
      "\n",
      "Topic: 6 Word: 0.027*\"armenian\" + 0.020*\"file\" + 0.014*\"entri\" + 0.011*\"turkish\" + 0.010*\"program\" + 0.009*\"section\" + 0.007*\"russian\" + 0.006*\"greek\" + 0.006*\"turkey\" + 0.006*\"organ\"\n",
      "\n",
      "\n",
      "Topic: 7 Word: 0.008*\"tell\" + 0.006*\"take\" + 0.006*\"start\" + 0.005*\"hear\" + 0.005*\"happen\" + 0.005*\"bike\" + 0.005*\"get\" + 0.005*\"leav\" + 0.004*\"littl\" + 0.004*\"live\"\n",
      "\n",
      "\n",
      "Topic: 8 Word: 0.014*\"power\" + 0.013*\"wire\" + 0.008*\"line\" + 0.007*\"cabl\" + 0.007*\"connect\" + 0.006*\"design\" + 0.006*\"grind\" + 0.006*\"circuit\" + 0.006*\"current\" + 0.005*\"light\"\n",
      "\n",
      "\n",
      "Topic: 9 Word: 0.010*\"believ\" + 0.009*\"christian\" + 0.008*\"mean\" + 0.007*\"jesus\" + 0.006*\"exist\" + 0.006*\"question\" + 0.005*\"word\" + 0.005*\"reason\" + 0.005*\"person\" + 0.005*\"claim\"\n",
      "\n",
      "\n"
     ]
    }
   ],
   "source": [
    "'''\n",
    "For each topic, we will explore the words occuring in that topic and its relative weight\n",
    "'''\n",
    "for idx, topic in lda_model.print_topics(-1):\n",
    "    print(\"Topic: {} Word: {}\".format(idx, topic))\n",
    "    print(\"\\n\")"
   ]
  },
  {
   "cell_type": "markdown",
   "metadata": {},
   "source": [
    "### Classification of the topics ###\n",
    "\n",
    "Using the words in each topic and their corresponding weights, we have the following categories:\n",
    "\n",
    "* 0: Computer Software\n",
    "* 1: Space\n",
    "* 2: Government\n",
    "* 3: Energy\n",
    "* 4: Sports\n",
    "* 5: Applications\n",
    "* 6: Religion\n",
    "* 7: Computer Hardware\n",
    "* 8: Automotives\n",
    "* 9: Politics"
   ]
  },
  {
   "cell_type": "markdown",
   "metadata": {},
   "source": [
    "## Step 4.2 Running LDA using TF-IDF ##"
   ]
  },
  {
   "cell_type": "code",
   "execution_count": 58,
   "metadata": {},
   "outputs": [],
   "source": [
    "'''\n",
    "Define lda model using tfidf corpus\n",
    "'''\n",
    "lda_model_tfidf = gensim.models.LdaMulticore(corpus_tfidf, \n",
    "                                             num_topics=10, \n",
    "                                             id2word=dictionary, \n",
    "                                             passes=50, \n",
    "                                             workers=4)"
   ]
  },
  {
   "cell_type": "code",
   "execution_count": 59,
   "metadata": {},
   "outputs": [
    {
     "name": "stdout",
     "output_type": "stream",
     "text": [
      "Topic: 0 Word: 0.025*\"israel\" + 0.020*\"isra\" + 0.016*\"arab\" + 0.009*\"palestinian\" + 0.007*\"jew\" + 0.007*\"adam\" + 0.006*\"lebanon\" + 0.006*\"address\" + 0.006*\"david\" + 0.006*\"april\"\n",
      "\n",
      "\n",
      "Topic: 1 Word: 0.010*\"captain\" + 0.010*\"midi\" + 0.010*\"saturn\" + 0.008*\"blow\" + 0.007*\"queen\" + 0.007*\"bronx\" + 0.007*\"manhattan\" + 0.006*\"beauchain\" + 0.006*\"bobb\" + 0.006*\"sink\"\n",
      "\n",
      "\n",
      "Topic: 2 Word: 0.024*\"bike\" + 0.009*\"ride\" + 0.009*\"motorcycl\" + 0.008*\"mile\" + 0.008*\"car\" + 0.007*\"honda\" + 0.007*\"rear\" + 0.007*\"rid\" + 0.006*\"road\" + 0.006*\"drive\"\n",
      "\n",
      "\n",
      "Topic: 3 Word: 0.019*\"window\" + 0.017*\"file\" + 0.010*\"program\" + 0.007*\"server\" + 0.007*\"version\" + 0.007*\"graphic\" + 0.006*\"advanc\" + 0.006*\"font\" + 0.006*\"code\" + 0.005*\"mail\"\n",
      "\n",
      "\n",
      "Topic: 4 Word: 0.010*\"card\" + 0.009*\"drive\" + 0.006*\"disk\" + 0.006*\"monitor\" + 0.005*\"video\" + 0.005*\"price\" + 0.005*\"driver\" + 0.005*\"scsi\" + 0.005*\"control\" + 0.005*\"sale\"\n",
      "\n",
      "\n",
      "Topic: 5 Word: 0.011*\"detector\" + 0.010*\"colormap\" + 0.009*\"radar\" + 0.008*\"doug\" + 0.007*\"upenn\" + 0.007*\"tiger\" + 0.005*\"keith\" + 0.005*\"asshol\" + 0.005*\"brilliant\" + 0.005*\"keller\"\n",
      "\n",
      "\n",
      "Topic: 6 Word: 0.026*\"armenian\" + 0.013*\"turkish\" + 0.009*\"greek\" + 0.009*\"turk\" + 0.009*\"turkey\" + 0.007*\"spell\" + 0.007*\"armenia\" + 0.007*\"jew\" + 0.006*\"muslim\" + 0.006*\"genocid\"\n",
      "\n",
      "\n",
      "Topic: 7 Word: 0.019*\"game\" + 0.017*\"team\" + 0.011*\"player\" + 0.010*\"play\" + 0.008*\"hockey\" + 0.007*\"season\" + 0.007*\"score\" + 0.006*\"basebal\" + 0.006*\"leagu\" + 0.005*\"pitch\"\n",
      "\n",
      "\n",
      "Topic: 8 Word: 0.003*\"believ\" + 0.002*\"mean\" + 0.002*\"govern\" + 0.002*\"christian\" + 0.002*\"state\" + 0.002*\"person\" + 0.002*\"question\" + 0.002*\"read\" + 0.002*\"tell\" + 0.002*\"fact\"\n",
      "\n",
      "\n",
      "Topic: 9 Word: 0.010*\"alomar\" + 0.009*\"food\" + 0.007*\"chines\" + 0.006*\"telnet\" + 0.006*\"migrain\" + 0.006*\"restaur\" + 0.006*\"astro\" + 0.006*\"studio\" + 0.005*\"stave\" + 0.005*\"antibiot\"\n",
      "\n",
      "\n"
     ]
    }
   ],
   "source": [
    "'''\n",
    "For each topic, we will explore the words occuring in that topic and its relative weight\n",
    "'''\n",
    "for idx, topic in lda_model_tfidf.print_topics(-1):\n",
    "    print(\"Topic: {} Word: {}\".format(idx, topic))\n",
    "    print(\"\\n\")"
   ]
  },
  {
   "cell_type": "markdown",
   "metadata": {},
   "source": [
    "### Classification of the topics ###\n",
    "\n",
    "As we can see, when using tf-idf, heavier weights are given to words that are not as frequent which results in nouns being factored in. That makes it harder to figure out the categories as nouns can be hard to categorize. This goes to show that the models we apply depend on the type of corpus of text we are dealing with. \n",
    "\n",
    "Using the words in each topic and their corresponding weights, we have the following categories:\n",
    "\n",
    "* 0: Unclear\n",
    "* 1: Computer Software\n",
    "* 2: Space\n",
    "* 3: Religion\n",
    "* 4: Middle East\n",
    "* 5: Unclear\n",
    "* 6: Unclear\n",
    "* 7: Politics\n",
    "* 8: Automotives\n",
    "* 9: Sports"
   ]
  },
  {
   "cell_type": "markdown",
   "metadata": {},
   "source": [
    "## Step 5.1: Performance evaluation by classifying sample document using LDA Bag of Words model##\n",
    "\n",
    "We will check to see where our test document would be classified. "
   ]
  },
  {
   "cell_type": "code",
   "execution_count": 69,
   "metadata": {},
   "outputs": [
    {
     "name": "stdout",
     "output_type": "stream",
     "text": [
      "Have anybody succeded in converting a atari monomchrome monitor into a\n",
      "mono VGA monitor. If so please let me know exactly how you did and what\n",
      "graphics card you used.\n",
      "\n",
      "\t/Thanx\n"
     ]
    }
   ],
   "source": [
    "'''\n",
    "Text of sample document 5288\n",
    "'''\n",
    "print(documents[document_num])"
   ]
  },
  {
   "cell_type": "code",
   "execution_count": 70,
   "metadata": {},
   "outputs": [
    {
     "name": "stdout",
     "output_type": "stream",
     "text": [
      "\n",
      "Score: 0.8239408731460571\t \n",
      "Topic: 0.020*\"drive\" + 0.015*\"card\" + 0.011*\"disk\" + 0.010*\"window\" + 0.009*\"control\" + 0.009*\"scsi\" + 0.009*\"driver\" + 0.007*\"memori\" + 0.007*\"hard\" + 0.007*\"price\"\n",
      "\n",
      "Score: 0.10332677513360977\t \n",
      "Topic: 0.022*\"file\" + 0.013*\"program\" + 0.012*\"window\" + 0.008*\"imag\" + 0.008*\"avail\" + 0.008*\"encrypt\" + 0.008*\"mail\" + 0.007*\"inform\" + 0.007*\"server\" + 0.007*\"version\"\n"
     ]
    }
   ],
   "source": [
    "'''\n",
    "Check which topic our test document belongs to using the LDA Bag of Words model.\n",
    "'''\n",
    "\n",
    "# Our test document is document number 4310\n",
    "for index, score in sorted(lda_model[bow_corpus[document_num]], key=lambda tup: -1*tup[1]):\n",
    "    print(\"\\nScore: {}\\t \\nTopic: {}\".format(score, lda_model.print_topic(index, 10)))"
   ]
  },
  {
   "cell_type": "markdown",
   "metadata": {},
   "source": [
    "### It has the highest probability (`82.4%`) to be  part of the topic that we assigned as Computer Hardware, which is the accurate classification. ###"
   ]
  },
  {
   "cell_type": "markdown",
   "metadata": {},
   "source": [
    "## Step 5.2: Performance evaluation by classifying sample document using LDA TF-IDF model##"
   ]
  },
  {
   "cell_type": "code",
   "execution_count": 71,
   "metadata": {},
   "outputs": [
    {
     "name": "stdout",
     "output_type": "stream",
     "text": [
      "\n",
      "Score: 0.6669110655784607\t \n",
      "Topic: 0.010*\"card\" + 0.009*\"drive\" + 0.006*\"disk\" + 0.006*\"monitor\" + 0.005*\"video\" + 0.005*\"price\" + 0.005*\"driver\" + 0.005*\"scsi\" + 0.005*\"control\" + 0.005*\"sale\"\n",
      "\n",
      "Score: 0.2603572607040405\t \n",
      "Topic: 0.019*\"window\" + 0.017*\"file\" + 0.010*\"program\" + 0.007*\"server\" + 0.007*\"version\" + 0.007*\"graphic\" + 0.006*\"advanc\" + 0.006*\"font\" + 0.006*\"code\" + 0.005*\"mail\"\n"
     ]
    }
   ],
   "source": [
    "'''\n",
    "Check which topic our test document belongs to using the LDA TF-IDF model.\n",
    "'''\n",
    "\n",
    "# Our test document is document number 4310\n",
    "for index, score in sorted(lda_model_tfidf[bow_corpus[document_num]], key=lambda tup: -1*tup[1]):\n",
    "    print(\"\\nScore: {}\\t \\nTopic: {}\".format(score, lda_model_tfidf.print_topic(index, 10)))"
   ]
  },
  {
   "cell_type": "markdown",
   "metadata": {},
   "source": [
    "### It has the highest probability (`66.7%`) to be  part of the topic that we assigned as Computer Hardware. ###"
   ]
  },
  {
   "cell_type": "markdown",
   "metadata": {},
   "source": [
    "## Step 5.2: Performance evaluation of model as a whole ##\n",
    "\n",
    "We use the perplexity(logarithm) for our evaluation. The perplexity is connected to the log likelihood that the model is able to **generate the documents, given the distribution of topics for those documents**. The lower the perplexity, the better the model as it signifies that the model can regenerate the text quite well."
   ]
  },
  {
   "cell_type": "code",
   "execution_count": 73,
   "metadata": {},
   "outputs": [
    {
     "name": "stdout",
     "output_type": "stream",
     "text": [
      "Log perplexity of the model is -7.371806882346939\n"
     ]
    }
   ],
   "source": [
    "'''\n",
    "Calcualte log perplexity of the model to check if the model can generate the text.\n",
    "'''\n",
    "print(\"Log perplexity of the model is\", lda_model.log_perplexity(bow_corpus))"
   ]
  },
  {
   "cell_type": "markdown",
   "metadata": {},
   "source": [
    "## Step 6: Testing model on unseen document ##"
   ]
  },
  {
   "cell_type": "code",
   "execution_count": 74,
   "metadata": {},
   "outputs": [
    {
     "name": "stdout",
     "output_type": "stream",
     "text": [
      "Score: 0.6090230941772461\t Topic: 0.029*\"game\" + 0.022*\"team\" + 0.018*\"play\" + 0.014*\"player\" + 0.011*\"season\"\n",
      "Score: 0.230947345495224\t Topic: 0.025*\"space\" + 0.010*\"nasa\" + 0.009*\"launch\" + 0.009*\"orbit\" + 0.007*\"program\"\n",
      "Score: 0.02000638097524643\t Topic: 0.008*\"valu\" + 0.008*\"differ\" + 0.008*\"caus\" + 0.008*\"effect\" + 0.008*\"case\"\n",
      "Score: 0.020005231723189354\t Topic: 0.020*\"drive\" + 0.015*\"card\" + 0.011*\"disk\" + 0.010*\"window\" + 0.009*\"control\"\n",
      "Score: 0.02000388875603676\t Topic: 0.010*\"univers\" + 0.010*\"inform\" + 0.010*\"state\" + 0.008*\"articl\" + 0.008*\"book\"\n",
      "Score: 0.020003557205200195\t Topic: 0.011*\"govern\" + 0.008*\"state\" + 0.007*\"presid\" + 0.005*\"public\" + 0.005*\"mean\"\n",
      "Score: 0.020003268495202065\t Topic: 0.007*\"wire\" + 0.006*\"bike\" + 0.006*\"littl\" + 0.005*\"tell\" + 0.005*\"leav\"\n",
      "Score: 0.02000322751700878\t Topic: 0.022*\"file\" + 0.013*\"program\" + 0.012*\"window\" + 0.008*\"imag\" + 0.008*\"avail\"\n",
      "Score: 0.020002182573080063\t Topic: 0.022*\"armenian\" + 0.011*\"israel\" + 0.011*\"kill\" + 0.010*\"jew\" + 0.009*\"turkish\"\n",
      "Score: 0.020001795142889023\t Topic: 0.012*\"christian\" + 0.010*\"believ\" + 0.009*\"jesus\" + 0.007*\"exist\" + 0.007*\"mean\"\n"
     ]
    }
   ],
   "source": [
    "unseen_document = \"My favorite sports activities are running and swimming.\"\n",
    "\n",
    "# Data preprocessing step for the unseen document\n",
    "bow_vector = dictionary.doc2bow(preprocess(unseen_document))\n",
    "\n",
    "for index, score in sorted(lda_model[bow_vector], key=lambda tup: -1*tup[1]):\n",
    "    print(\"Score: {}\\t Topic: {}\".format(score, lda_model.print_topic(index, 5)))"
   ]
  },
  {
   "cell_type": "markdown",
   "metadata": {},
   "source": [
    "The model correctly classifies the unseen document with 61.6% probability to the Sports category."
   ]
  }
 ],
 "metadata": {
  "kernelspec": {
   "display_name": "Python 3",
   "language": "python",
   "name": "python3"
  },
  "language_info": {
   "codemirror_mode": {
    "name": "ipython",
    "version": 3
   },
   "file_extension": ".py",
   "mimetype": "text/x-python",
   "name": "python",
   "nbconvert_exporter": "python",
   "pygments_lexer": "ipython3",
   "version": "3.6.7"
  }
 },
 "nbformat": 4,
 "nbformat_minor": 1
}
